{
 "cells": [
  {
   "cell_type": "markdown",
   "id": "d74f770c",
   "metadata": {},
   "source": [
    "### Loading the Website Traffic Data"
   ]
  },
  {
   "cell_type": "code",
   "execution_count": 2,
   "id": "0b1a3987",
   "metadata": {},
   "outputs": [
    {
     "data": {
      "text/html": [
       "<div>\n",
       "<style scoped>\n",
       "    .dataframe tbody tr th:only-of-type {\n",
       "        vertical-align: middle;\n",
       "    }\n",
       "\n",
       "    .dataframe tbody tr th {\n",
       "        vertical-align: top;\n",
       "    }\n",
       "\n",
       "    .dataframe thead th {\n",
       "        text-align: right;\n",
       "    }\n",
       "</style>\n",
       "<table border=\"1\" class=\"dataframe\">\n",
       "  <thead>\n",
       "    <tr style=\"text-align: right;\">\n",
       "      <th></th>\n",
       "      <th>Page Views</th>\n",
       "      <th>Session Duration</th>\n",
       "      <th>Bounce Rate</th>\n",
       "      <th>Traffic Source</th>\n",
       "      <th>Time on Page</th>\n",
       "      <th>Previous Visits</th>\n",
       "      <th>Conversion Rate</th>\n",
       "    </tr>\n",
       "  </thead>\n",
       "  <tbody>\n",
       "    <tr>\n",
       "      <th>0</th>\n",
       "      <td>5</td>\n",
       "      <td>11.051381</td>\n",
       "      <td>0.230652</td>\n",
       "      <td>Organic</td>\n",
       "      <td>3.890460</td>\n",
       "      <td>3</td>\n",
       "      <td>1.0</td>\n",
       "    </tr>\n",
       "    <tr>\n",
       "      <th>1</th>\n",
       "      <td>4</td>\n",
       "      <td>3.429316</td>\n",
       "      <td>0.391001</td>\n",
       "      <td>Social</td>\n",
       "      <td>8.478174</td>\n",
       "      <td>0</td>\n",
       "      <td>1.0</td>\n",
       "    </tr>\n",
       "    <tr>\n",
       "      <th>2</th>\n",
       "      <td>4</td>\n",
       "      <td>1.621052</td>\n",
       "      <td>0.397986</td>\n",
       "      <td>Organic</td>\n",
       "      <td>9.636170</td>\n",
       "      <td>2</td>\n",
       "      <td>1.0</td>\n",
       "    </tr>\n",
       "    <tr>\n",
       "      <th>3</th>\n",
       "      <td>5</td>\n",
       "      <td>3.629279</td>\n",
       "      <td>0.180458</td>\n",
       "      <td>Organic</td>\n",
       "      <td>2.071925</td>\n",
       "      <td>3</td>\n",
       "      <td>1.0</td>\n",
       "    </tr>\n",
       "    <tr>\n",
       "      <th>4</th>\n",
       "      <td>5</td>\n",
       "      <td>4.235843</td>\n",
       "      <td>0.291541</td>\n",
       "      <td>Paid</td>\n",
       "      <td>1.960654</td>\n",
       "      <td>5</td>\n",
       "      <td>1.0</td>\n",
       "    </tr>\n",
       "  </tbody>\n",
       "</table>\n",
       "</div>"
      ],
      "text/plain": [
       "   Page Views  Session Duration  Bounce Rate Traffic Source  Time on Page  \\\n",
       "0           5         11.051381     0.230652        Organic      3.890460   \n",
       "1           4          3.429316     0.391001         Social      8.478174   \n",
       "2           4          1.621052     0.397986        Organic      9.636170   \n",
       "3           5          3.629279     0.180458        Organic      2.071925   \n",
       "4           5          4.235843     0.291541           Paid      1.960654   \n",
       "\n",
       "   Previous Visits  Conversion Rate  \n",
       "0                3              1.0  \n",
       "1                0              1.0  \n",
       "2                2              1.0  \n",
       "3                3              1.0  \n",
       "4                5              1.0  "
      ]
     },
     "execution_count": 2,
     "metadata": {},
     "output_type": "execute_result"
    }
   ],
   "source": [
    "import pandas as pd\n",
    "\n",
    "# Loading the dataset\n",
    "wt = pd.read_csv(\"website_wata.csv\")\n",
    "\n",
    "# Display basic information about the dataset\n",
    "wt.head()\n"
   ]
  },
  {
   "cell_type": "code",
   "execution_count": 5,
   "id": "93192c7b",
   "metadata": {},
   "outputs": [
    {
     "name": "stdout",
     "output_type": "stream",
     "text": [
      "<class 'pandas.core.frame.DataFrame'>\n",
      "RangeIndex: 2000 entries, 0 to 1999\n",
      "Data columns (total 7 columns):\n",
      " #   Column            Non-Null Count  Dtype  \n",
      "---  ------            --------------  -----  \n",
      " 0   Page Views        2000 non-null   int64  \n",
      " 1   Session Duration  2000 non-null   float64\n",
      " 2   Bounce Rate       2000 non-null   float64\n",
      " 3   Traffic Source    2000 non-null   object \n",
      " 4   Time on Page      2000 non-null   float64\n",
      " 5   Previous Visits   2000 non-null   int64  \n",
      " 6   Conversion Rate   2000 non-null   float64\n",
      "dtypes: float64(4), int64(2), object(1)\n",
      "memory usage: 109.5+ KB\n"
     ]
    }
   ],
   "source": [
    "wt.info()"
   ]
  },
  {
   "cell_type": "markdown",
   "id": "9a9fe17b",
   "metadata": {},
   "source": [
    "### Overview of Our DataFrame"
   ]
  },
  {
   "cell_type": "markdown",
   "id": "8d12c62c",
   "metadata": {},
   "source": [
    "#### From the above info, we can deduce that the dataset contains a total of 2,000 records and 7 columns, which include 1 categorical and 7 numerical variables.\n",
    "\n",
    "Numerical Variables:\n",
    "\n",
    "* `Page Views` (int)\n",
    "* `Session Duration` (float)\n",
    "* `Bounce Rate` (float)\n",
    "* `Time on Page` (float)\n",
    "* `Previous Visits` (int)\n",
    "* `Conversion Rate` (float)\n",
    "\n",
    "Categorical Variable:\n",
    "\n",
    "* `Traffic Source` (object/string)"
   ]
  },
  {
   "cell_type": "markdown",
   "id": "c8c8ef6f",
   "metadata": {},
   "source": [
    "### Summary Statistics"
   ]
  },
  {
   "cell_type": "code",
   "execution_count": 4,
   "id": "2fe58e30",
   "metadata": {
    "scrolled": true
   },
   "outputs": [
    {
     "data": {
      "text/html": [
       "<div>\n",
       "<style scoped>\n",
       "    .dataframe tbody tr th:only-of-type {\n",
       "        vertical-align: middle;\n",
       "    }\n",
       "\n",
       "    .dataframe tbody tr th {\n",
       "        vertical-align: top;\n",
       "    }\n",
       "\n",
       "    .dataframe thead th {\n",
       "        text-align: right;\n",
       "    }\n",
       "</style>\n",
       "<table border=\"1\" class=\"dataframe\">\n",
       "  <thead>\n",
       "    <tr style=\"text-align: right;\">\n",
       "      <th></th>\n",
       "      <th>Page Views</th>\n",
       "      <th>Session Duration</th>\n",
       "      <th>Bounce Rate</th>\n",
       "      <th>Time on Page</th>\n",
       "      <th>Previous Visits</th>\n",
       "      <th>Conversion Rate</th>\n",
       "    </tr>\n",
       "  </thead>\n",
       "  <tbody>\n",
       "    <tr>\n",
       "      <th>count</th>\n",
       "      <td>2000.000000</td>\n",
       "      <td>2000.000000</td>\n",
       "      <td>2000.000000</td>\n",
       "      <td>2000.000000</td>\n",
       "      <td>2000.000000</td>\n",
       "      <td>2000.000000</td>\n",
       "    </tr>\n",
       "    <tr>\n",
       "      <th>mean</th>\n",
       "      <td>4.950500</td>\n",
       "      <td>3.022045</td>\n",
       "      <td>0.284767</td>\n",
       "      <td>4.027439</td>\n",
       "      <td>1.978500</td>\n",
       "      <td>0.982065</td>\n",
       "    </tr>\n",
       "    <tr>\n",
       "      <th>std</th>\n",
       "      <td>2.183903</td>\n",
       "      <td>3.104518</td>\n",
       "      <td>0.159781</td>\n",
       "      <td>2.887422</td>\n",
       "      <td>1.432852</td>\n",
       "      <td>0.065680</td>\n",
       "    </tr>\n",
       "    <tr>\n",
       "      <th>min</th>\n",
       "      <td>0.000000</td>\n",
       "      <td>0.003613</td>\n",
       "      <td>0.007868</td>\n",
       "      <td>0.068515</td>\n",
       "      <td>0.000000</td>\n",
       "      <td>0.343665</td>\n",
       "    </tr>\n",
       "    <tr>\n",
       "      <th>25%</th>\n",
       "      <td>3.000000</td>\n",
       "      <td>0.815828</td>\n",
       "      <td>0.161986</td>\n",
       "      <td>1.935037</td>\n",
       "      <td>1.000000</td>\n",
       "      <td>1.000000</td>\n",
       "    </tr>\n",
       "    <tr>\n",
       "      <th>50%</th>\n",
       "      <td>5.000000</td>\n",
       "      <td>1.993983</td>\n",
       "      <td>0.266375</td>\n",
       "      <td>3.315316</td>\n",
       "      <td>2.000000</td>\n",
       "      <td>1.000000</td>\n",
       "    </tr>\n",
       "    <tr>\n",
       "      <th>75%</th>\n",
       "      <td>6.000000</td>\n",
       "      <td>4.197569</td>\n",
       "      <td>0.388551</td>\n",
       "      <td>5.414627</td>\n",
       "      <td>3.000000</td>\n",
       "      <td>1.000000</td>\n",
       "    </tr>\n",
       "    <tr>\n",
       "      <th>max</th>\n",
       "      <td>14.000000</td>\n",
       "      <td>20.290516</td>\n",
       "      <td>0.844939</td>\n",
       "      <td>24.796182</td>\n",
       "      <td>9.000000</td>\n",
       "      <td>1.000000</td>\n",
       "    </tr>\n",
       "  </tbody>\n",
       "</table>\n",
       "</div>"
      ],
      "text/plain": [
       "        Page Views  Session Duration  Bounce Rate  Time on Page  \\\n",
       "count  2000.000000       2000.000000  2000.000000   2000.000000   \n",
       "mean      4.950500          3.022045     0.284767      4.027439   \n",
       "std       2.183903          3.104518     0.159781      2.887422   \n",
       "min       0.000000          0.003613     0.007868      0.068515   \n",
       "25%       3.000000          0.815828     0.161986      1.935037   \n",
       "50%       5.000000          1.993983     0.266375      3.315316   \n",
       "75%       6.000000          4.197569     0.388551      5.414627   \n",
       "max      14.000000         20.290516     0.844939     24.796182   \n",
       "\n",
       "       Previous Visits  Conversion Rate  \n",
       "count      2000.000000      2000.000000  \n",
       "mean          1.978500         0.982065  \n",
       "std           1.432852         0.065680  \n",
       "min           0.000000         0.343665  \n",
       "25%           1.000000         1.000000  \n",
       "50%           2.000000         1.000000  \n",
       "75%           3.000000         1.000000  \n",
       "max           9.000000         1.000000  "
      ]
     },
     "execution_count": 4,
     "metadata": {},
     "output_type": "execute_result"
    }
   ],
   "source": [
    "wt.describe()"
   ]
  },
  {
   "cell_type": "markdown",
   "id": "6923988a",
   "metadata": {},
   "source": [
    "### Traffic Sources Value Count"
   ]
  },
  {
   "cell_type": "code",
   "execution_count": 13,
   "id": "e4ec87dc",
   "metadata": {},
   "outputs": [
    {
     "data": {
      "text/plain": [
       "Traffic Source\n",
       "Organic     786\n",
       "Paid        428\n",
       "Referral    301\n",
       "Social      269\n",
       "Direct      216\n",
       "Name: count, dtype: int64"
      ]
     },
     "execution_count": 13,
     "metadata": {},
     "output_type": "execute_result"
    }
   ],
   "source": [
    "# Unique values in categorical column (Traffic Source) and the number of times they appear\n",
    "traffic_sources = wt[\"Traffic Source\"].value_counts().sort_values(ascending=False)\n",
    "\n",
    "traffic_sources"
   ]
  },
  {
   "cell_type": "markdown",
   "id": "288df9b6",
   "metadata": {},
   "source": [
    "### Key Observations from the Summary Statistics and Categorical Data:\n",
    "\n",
    "##### User Engagement Insights:\n",
    "\n",
    "* The average session duration is ~3.02 minutes, but it varies significantly (with a standard deviation of ~3.10).\n",
    "* The average time on page is ~4.03 minutes, but the max value (of ~24.8 minutes) suggests outliers.\n",
    "\n",
    "##### Bounce Rate and Conversion Rate:\n",
    "\n",
    "* The average bounce rate is ~28.5%, with some sessions having a bounce rate as low as 0.8% and as high as 84.5%.\n",
    "* The conversion rate is high (98.2% on average), indicating strong lead generation or goal completions.\n",
    "\n",
    "##### `Traffic Sources` Breakdown:\n",
    "\n",
    "* The majority of traffic comes from Organic Search (786 visits), followed by Paid (428 visits) and Referral (301 visits).\n",
    "Direct traffic (216 visits) is the least common source, while Social (269) is the least but one."
   ]
  },
  {
   "cell_type": "code",
   "execution_count": null,
   "id": "959dc536",
   "metadata": {},
   "outputs": [],
   "source": []
  }
 ],
 "metadata": {
  "kernelspec": {
   "display_name": "Python 3 (ipykernel)",
   "language": "python",
   "name": "python3"
  },
  "language_info": {
   "codemirror_mode": {
    "name": "ipython",
    "version": 3
   },
   "file_extension": ".py",
   "mimetype": "text/x-python",
   "name": "python",
   "nbconvert_exporter": "python",
   "pygments_lexer": "ipython3",
   "version": "3.11.5"
  }
 },
 "nbformat": 4,
 "nbformat_minor": 5
}
